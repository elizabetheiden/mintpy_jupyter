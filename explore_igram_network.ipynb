{
 "cells": [
  {
   "attachments": {},
   "cell_type": "markdown",
   "metadata": {},
   "source": [
    "### This Notebook is for exploring the IFG network\n",
    "- plot bad IFGs\n",
    "- perp baseline plots\n",
    "- coherence matrix"
   ]
  },
  {
   "cell_type": "code",
   "execution_count": null,
   "metadata": {},
   "outputs": [],
   "source": [
    "#Import statements\n",
    "import os\n",
    "import numpy as np\n",
    "import matplotlib.pyplot as plt\n",
    "import rioxarray as rioxr\n",
    "import glob\n",
    "import pandas as pd\n",
    "\n",
    "from mintpy.utils import readfile, utils as ut, plot as pp\n",
    "from mintpy.cli import view, tsview, plot_network, plot_transection\n",
    "from mintpy.view import prep_slice, plot_slice"
   ]
  },
  {
   "cell_type": "code",
   "execution_count": null,
   "metadata": {},
   "outputs": [],
   "source": [
    "#Set up directories\n",
    "track = 'T28'\n",
    "\n",
    "work_dir = os.path.expanduser('/data/eme66/PROCESSDIR/EAR/{}/mintpy/'.format(track))\n",
    "ifg_dir = os.path.expanduser('/data/eme66/PROCESSDIR/EAR/{}/merged/interferograms/'.format(track))"
   ]
  },
  {
   "attachments": {},
   "cell_type": "markdown",
   "metadata": {},
   "source": [
    "##### Plot the interferogram network"
   ]
  },
  {
   "cell_type": "code",
   "execution_count": null,
   "metadata": {},
   "outputs": [],
   "source": [
    "# Make sure you're in the right directory\n",
    "os.chdir(work_dir)\n",
    "print('Now in work directory: ', work_dir)\n",
    "\n",
    "plot_network.main('inputs/ifgramStack.h5 -t smallbaselineApp.cfg --figsize 8 4'.split())"
   ]
  },
  {
   "cell_type": "code",
   "execution_count": null,
   "metadata": {},
   "outputs": [],
   "source": [
    "# Make sure you're in the right directory\n",
    "os.chdir(work_dir)\n",
    "print('Now in work directory: ', work_dir)\n",
    "\n",
    "# Print all IFGs with an average spatial coherence < threshold\n",
    "\n",
    "cohth = 0.4 #coherence threshold - choose based on what makes sense\n",
    "\n",
    "ifg_coh = pd.read_csv('coherenceSpatialAvg.txt', sep='\\t', header=4, names=['Date', 'Mean', 'Btemp', 'Bperp', 'Num','NaN1', 'NaN2', 'Nan3']) #Idk why there are 3 columns of NaNs\n",
    "bad_ifgs = ifg_coh.index[ifg_coh['Mean'] < cohth]\n",
    "print('# IFGs below coherence threshold: ',len(bad_ifgs), 'out of', len(ifg_coh))"
   ]
  },
  {
   "cell_type": "code",
   "execution_count": null,
   "metadata": {},
   "outputs": [],
   "source": [
    "# Make sure in right directory\n",
    "os.chdir(ifg_dir)\n",
    "print('Now in IFG directory', ifg_dir)\n",
    "\n",
    "# are stackSentinel products geocoded?\n",
    "ifg_lst = glob.glob('*/filt_fine.unw')\n",
    "\n",
    "# loop through? what is best way of doing this for 500+ IFGs - I think it's best to just look at the worst overall coherence ones\n",
    "\n",
    "fig, axs = plt.subplots(len(bad_ifgs), figsize=(30,30))\n",
    "\n",
    "for i, ele in enumerate(bad_ifgs):\n",
    "    da = rioxr.open_rasterio(ifg_lst[ele])\n",
    "    da['band'] = ['amplitude', 'phase']\n",
    "    ds = da.to_dataset(dim='band')\n",
    "    #amp = ds['amplitude'] #not plotting amplitude right now\n",
    "    phs = ds['phase']\n",
    "    phs = phs.where(phs !=0) #This step takes like 5 seconds per IFG!\n",
    "    lower_bound = np.nanmean(phs) - 3*np.nanstd(phs)\n",
    "    upper_bound = np.nanmean(phs) + 3*np.nanstd(phs)\n",
    "    im = axs[i].imshow(phs, cmap='jet', vmin=lower_bound, vmax=upper_bound)\n",
    "    fig.colorbar(im)\n",
    "    axs[i].set_title(ifg_lst[ele].split('/')[0])\n"
   ]
  },
  {
   "cell_type": "code",
   "execution_count": null,
   "metadata": {},
   "outputs": [],
   "source": [
    "# Exploring ionospheric corrections\n",
    "ion = rioxr.open_rasterio('/data/eme66/PROCESSDIR/EAR/T28/ion/20221212_20230117/ion_cal/filt.ion')\n",
    "ion['band'] = ['amplitude', 'phase']\n",
    "ion_ds = ion.to_dataset(dim='band')\n",
    "ion_amp = ion_ds['amplitude'] #not plotting amplitude right now\n",
    "ion_phs = ion_ds['phase']"
   ]
  },
  {
   "cell_type": "code",
   "execution_count": null,
   "metadata": {},
   "outputs": [],
   "source": [
    "print(ion_phs.shape)\n",
    "print(phs.shape)"
   ]
  }
 ],
 "metadata": {
  "kernelspec": {
   "display_name": "isce2gpu",
   "language": "python",
   "name": "python3"
  },
  "language_info": {
   "codemirror_mode": {
    "name": "ipython",
    "version": 3
   },
   "file_extension": ".py",
   "mimetype": "text/x-python",
   "name": "python",
   "nbconvert_exporter": "python",
   "pygments_lexer": "ipython3",
   "version": "3.11.4"
  },
  "orig_nbformat": 4
 },
 "nbformat": 4,
 "nbformat_minor": 2
}
